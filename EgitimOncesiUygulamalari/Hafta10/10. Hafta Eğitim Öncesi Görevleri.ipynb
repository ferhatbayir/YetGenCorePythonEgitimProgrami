{
 "cells": [
  {
   "attachments": {},
   "cell_type": "markdown",
   "metadata": {},
   "source": [
    "# Problem 1"
   ]
  },
  {
   "cell_type": "code",
   "execution_count": 39,
   "metadata": {},
   "outputs": [
    {
     "name": "stdout",
     "output_type": "stream",
     "text": [
      "[4 9 9 5 2]\n",
      "(5,)\n",
      "[[4]\n",
      " [9]\n",
      " [9]\n",
      " [5]\n",
      " [2]]\n",
      "2\n"
     ]
    }
   ],
   "source": [
    "# 1 - numpy kütüphanesini import edin\n",
    "\n",
    "import numpy as np\n",
    "\n",
    "# 2 - 0 ile 10 arasında 5 sayıdan oluşan matris üretin\n",
    "\n",
    "matrix = np.random.randint(0, 11, size=(5))\n",
    "print(matrix)\n",
    "# 3 - matris'in boyutunu öğrenin\n",
    "\n",
    "print(matrix.shape)\n",
    "\n",
    "# 4 - matris'i yeniden boyutlandırın\n",
    "\n",
    "matrix = matrix.reshape(5,1)\n",
    "print(matrix)\n",
    "\n",
    "# 5 - matris'in boyut sayısını öğrenin\n",
    "print(matrix.ndim)\n"
   ]
  },
  {
   "attachments": {},
   "cell_type": "markdown",
   "metadata": {},
   "source": [
    "# Problem 2"
   ]
  },
  {
   "cell_type": "code",
   "execution_count": 55,
   "metadata": {},
   "outputs": [
    {
     "name": "stdout",
     "output_type": "stream",
     "text": [
      "[1 3 5 7 9]\n",
      "[1]\n",
      "[3]\n",
      "[5 7 9]\n",
      "[1 3 5 7 9]\n"
     ]
    }
   ],
   "source": [
    "# 1 - 0 ile 10 arasında bulunan tek sayılardan oluşan matris üretin\n",
    "\n",
    "matrix2 = np.arange(1, 11, 2)\n",
    "print(matrix2)\n",
    "\n",
    "# 2 - Oluşturduğunuz matrisi parçalayın\n",
    "\n",
    "a,b,c = np.split(matrix2, [1,2])\n",
    "print(a)\n",
    "print(b)\n",
    "print(c)\n",
    "\n",
    "# 3 - Parçalanmış matrisleri birleştirin\n",
    "\n",
    "matrix_abc = np.concatenate([a,b,c])\n",
    "print(matrix_abc)"
   ]
  },
  {
   "attachments": {},
   "cell_type": "markdown",
   "metadata": {},
   "source": [
    "# Problem 3"
   ]
  },
  {
   "cell_type": "code",
   "execution_count": 62,
   "metadata": {},
   "outputs": [
    {
     "name": "stdout",
     "output_type": "stream",
     "text": [
      "[19 17 39 23 23 39 13 11 61 79]\n",
      "1\n",
      "(10,)\n",
      "10\n",
      "int32\n",
      "q 40\n"
     ]
    }
   ],
   "source": [
    "# 1 - 5 ile 100 arasında ikişer ikişer atlayarak rastgele 10 sayıdan oluşan matris üretin\n",
    "\n",
    "matrix3 = np.random.choice(np.arange(5, 101, 2), size=10)\n",
    "print(matrix3)\n",
    "\n",
    "# 2 - matris'in özelliklerini inceleyin\n",
    "\n",
    "print(matrix3.ndim)\n",
    "print(matrix3.shape)\n",
    "print(matrix3.size)\n",
    "print(matrix3.dtype)\n",
    "\n"
   ]
  }
 ],
 "metadata": {
  "kernelspec": {
   "display_name": "Python 3",
   "language": "python",
   "name": "python3"
  },
  "language_info": {
   "name": "python",
   "version": "3.10.5 (tags/v3.10.5:f377153, Jun  6 2022, 16:14:13) [MSC v.1929 64 bit (AMD64)]"
  },
  "orig_nbformat": 4,
  "vscode": {
   "interpreter": {
    "hash": "5026d2d6e7aaaaba093def813beadff083d8733e4a511af01735cbabd156995d"
   }
  }
 },
 "nbformat": 4,
 "nbformat_minor": 2
}

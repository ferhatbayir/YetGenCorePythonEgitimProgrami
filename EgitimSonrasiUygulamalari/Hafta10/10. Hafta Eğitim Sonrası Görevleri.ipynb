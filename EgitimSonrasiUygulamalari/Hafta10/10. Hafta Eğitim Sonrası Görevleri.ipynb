{
 "cells": [
  {
   "attachments": {},
   "cell_type": "markdown",
   "metadata": {},
   "source": [
    "# Problem 1 "
   ]
  },
  {
   "cell_type": "code",
   "execution_count": 1,
   "metadata": {},
   "outputs": [
    {
     "name": "stdout",
     "output_type": "stream",
     "text": [
      "[84 17 62 46 25]\n",
      "[17 25 46 62 84]\n"
     ]
    }
   ],
   "source": [
    "# 1 - numpy kütüphanesini import edin\n",
    "\n",
    "import numpy as np\n",
    "\n",
    "# 2 - 5 elemanlı bir numpy array oluşturun\n",
    "\n",
    "a = np.array([84,17,62,46,25])\n",
    "print(a)\n",
    "\n",
    "# 3 - Oluşturduğunuz arrayi küçükten büyüğe sıralayın.\n",
    "\n",
    "sorted_a = np.sort(a)\n",
    "print(sorted_a)"
   ]
  },
  {
   "attachments": {},
   "cell_type": "markdown",
   "metadata": {},
   "source": [
    "# Problem 2"
   ]
  },
  {
   "cell_type": "code",
   "execution_count": 33,
   "metadata": {},
   "outputs": [
    {
     "name": "stdout",
     "output_type": "stream",
     "text": [
      "[10 15 30 45 60]\n",
      "[ 5  6  7  8  9 10 11 12 13 14]\n",
      "[50 55 60 65 70 75 80 85 90 95]\n",
      "[0. 0. 0. 0. 0. 0. 0. 0. 0. 0.]\n",
      "[1. 1. 1. 1. 1. 1. 1. 1. 1. 1.]\n",
      "[  0.  25.  50.  75. 100.]\n",
      "[25 24 22 29 18]\n",
      "[ 0.31653004  0.55291951 -0.21337575  0.62976751  0.63422364 -0.46404313\n",
      "  0.31448035 -0.6076516  -0.09526943  0.19988868]\n",
      "[[34 15 23 16 17]\n",
      " [29 41 47 15 47]\n",
      " [34 32 24 44 32]]\n",
      "j satırları toplamı:  [105 179 166]\n",
      "j sütunları toplamı:  [97 88 94 75 96]\n",
      "j en büyük değer:  47 \n",
      "j en küçük değer:  15 \n",
      "j ortalama değer:  30.0\n",
      "j en büyük değerinin indeksi:  7\n",
      "[12 15 11]\n",
      "[14 14 11 19 14 11 15 12]\n",
      "14\n",
      "47\n",
      "[34 29 34]\n",
      "Kareler:\n",
      "  [[1156  225  529  256  289]\n",
      " [ 841 1681 2209  225 2209]\n",
      " [1156 1024  576 1936 1024]]\n",
      "l pozitif çift sayılar:  [ 2  4  6  8 10 12 14 16 18 20 22 24 26 28 30 32 34 36 38 40 42 44 46 48\n",
      " 50]\n"
     ]
    }
   ],
   "source": [
    "# 1- (10,15,30,45,60) değerlerine sahip numpy dizisi oluşturunuz.\n",
    "\n",
    "b = np.array([10,15,30,45,60])\n",
    "print(b)\n",
    "\n",
    "# 2- (5-15) arasındaki sayılarla numpy dizisi oluşturunuz.\n",
    "\n",
    "c = np.arange(5,15)\n",
    "print(c)\n",
    "\n",
    "# 3- (50-100) arasında 5'er 5'er artarak numpy dizisi oluşturunuz.\n",
    "\n",
    "d = np.arange(50,100,5)\n",
    "print(d)\n",
    "\n",
    "# 4- 10 elemanlı sıfırlardan oluşan bir dizi oluşturunuz.\n",
    "\n",
    "e = np.zeros(10)\n",
    "print(e)\n",
    "\n",
    "# 5- 10 elemanlı birlerden oluşan bir dizi oluşturunuz.\n",
    "\n",
    "f = np.ones(10)\n",
    "print(f)\n",
    "\n",
    "# 6- (0-100) arasında eşit aralıklı 5 sayı üretin.\n",
    "\n",
    "g = np.linspace(0,100,5)\n",
    "print(g)\n",
    "\n",
    "# 7- (10-30) arasında rastgele 5 tane tamsayı üretin.\n",
    "\n",
    "h = np.random.randint(10,31, size=5)\n",
    "print(h)\n",
    "\n",
    "# 8- [-1 ile 1] arasında 10 adet sayı üretin.\n",
    "\n",
    "i = np.random.uniform(-1,1, 10)\n",
    "print(i)\n",
    "\n",
    "# 9- (3x5) boyutlarında (10-50) arasında rastgele bir matris oluşturunuz.\n",
    "\n",
    "j = np.random.randint(10,51,size=(3,5))\n",
    "print(j)\n",
    "\n",
    "# 10- Üretilen matrisin satır ve sütun sayıları toplamlarını hesaplayınız ?\n",
    "\n",
    "j_satir_toplami = np.sum(j, axis=1)\n",
    "j_sutun_toplami = np.sum(j, axis=0)\n",
    "\n",
    "print(\"j satırları toplamı: \", j_satir_toplami)\n",
    "print(\"j sütunları toplamı: \", j_sutun_toplami)\n",
    "\n",
    "# 11- Üretilen matrisin en büyük, en küçük ve ortalaması nedir ?\n",
    "\n",
    "en_buyuk = np.max(j)\n",
    "en_kucuk = np.min(j)\n",
    "ortalama = np.mean(j)\n",
    "\n",
    "print(\"j en büyük değer: \", en_buyuk, \"\\nj en küçük değer: \", en_kucuk, \"\\nj ortalama değer: \", ortalama)\n",
    "\n",
    "# 12- Üretilen matrisin en büyük değerinin indeksi kaçtır ?\n",
    "\n",
    "j_en_buyuk_deger_index = np.argmax(j)\n",
    "print(\"j en büyük değerinin indeksi: \", j_en_buyuk_deger_index)\n",
    "\n",
    "# 13- (10-20) arasındaki sayıları içeren dizinin ilk 3 elemanını seçiniz.\n",
    "\n",
    "k = np.random.randint(10,21, size=8)\n",
    "k_ilk_uc_eleman = k[:3]\n",
    "print(k_ilk_uc_eleman)\n",
    "\n",
    "\n",
    "# 14- Üretilen dizinin elemanlarını tersten yazdırın.\n",
    "\n",
    "k = k[::-1]\n",
    "print(k)\n",
    "\n",
    "# 15- Üretilen matrisin ilk satırını seçiniz.\n",
    "\n",
    "j_ilk_satir = k[0]\n",
    "print(j_ilk_satir)\n",
    "\n",
    "# 16- Üretilen matrisin 2.satır 3.sütundaki elemanı hangisidir ?\n",
    "\n",
    "j_ikinci_satir_ucuncu_sutun = j[1,2]\n",
    "print(j_ikinci_satir_ucuncu_sutun)\n",
    "\n",
    "# 17- Üretilen matrisin tüm satırlardaki ilk elemanı seçiniz.\n",
    "\n",
    "j_butun_satirlar_ilk_eleman = j[:,0]\n",
    "print(j_butun_satirlar_ilk_eleman)\n",
    "\n",
    "# 18- Üretilen matrisin her bir elemanının karesini alınız.\n",
    "\n",
    "kareler = j ** 2\n",
    "print(\"Kareler:\\n \", kareler)\n",
    "\n",
    "# 19- Üretilen matris elemanlarının hangisi pozitif çift sayıdır ? Aralığı (-50,+50) arasında yapınız.\n",
    "\n",
    "l = np.arange(-50,51)\n",
    "l_pozitif_cift_sayilar =l[(l > 0) & (l % 2 == 0)]\n",
    "print(\"l pozitif çift sayılar: \", l_pozitif_cift_sayilar)"
   ]
  }
 ],
 "metadata": {
  "kernelspec": {
   "display_name": "Python 3",
   "language": "python",
   "name": "python3"
  },
  "language_info": {
   "codemirror_mode": {
    "name": "ipython",
    "version": 3
   },
   "file_extension": ".py",
   "mimetype": "text/x-python",
   "name": "python",
   "nbconvert_exporter": "python",
   "pygments_lexer": "ipython3",
   "version": "3.8.10"
  },
  "orig_nbformat": 4,
  "vscode": {
   "interpreter": {
    "hash": "5026d2d6e7aaaaba093def813beadff083d8733e4a511af01735cbabd156995d"
   }
  }
 },
 "nbformat": 4,
 "nbformat_minor": 2
}

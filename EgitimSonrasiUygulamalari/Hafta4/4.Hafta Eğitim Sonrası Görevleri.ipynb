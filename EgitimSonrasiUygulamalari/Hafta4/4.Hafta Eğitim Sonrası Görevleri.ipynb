{
 "cells": [
  {
   "cell_type": "markdown",
   "metadata": {},
   "source": [
    "# Problem 1\n",
    "`ogrenciler` adında bir sözlük oluşturunuz. Kullanıcıdan döngü yardımıyla 3 öğrenci için veri girmesini isteyerek öğrencilerin sırasıyla okul numarası, isim, soy isim, telefon numarası ve doğum tarihi bilgilerini alınız. Aldığınız öğrenci bilgilerini yine aynı döngü yardımıyla `ogrenciler` adındaki sözlükte saklayınız. Daha sonra öğrenci bilgilerinin bulunduğu sözlük yapısını ekrana bastırınız.\n",
    "\n"
   ]
  },
  {
   "cell_type": "code",
   "execution_count": 2,
   "metadata": {},
   "outputs": [
    {
     "name": "stdout",
     "output_type": "stream",
     "text": [
      "1 tane öğrenci bilgisi alındı.\n",
      "2 tane öğrenci bilgisi alındı.\n",
      "3 tane öğrenci bilgisi alındı.\n",
      "{3: {'No': 'ffh', 'isim': 'fsfsfs', 'Soy İsim': 'ddd', 'Telefon Numarası': 'nnn', 'Doğum Tarihi': 'ee'}}\n"
     ]
    }
   ],
   "source": [
    "ogrenciler = {}\n",
    "for i in range(1,4):\n",
    "    okul_no = input(\"Okul numarısını giriniz: \")\n",
    "    isim = input(\"İsminizi giriniz: \")\n",
    "    soy_isim = input(\"Soy isminizi giriniz: \")\n",
    "    telefon = input(\"Telefon numarasını giriniz: \")\n",
    "    dogum_tarihi = input(\"Doğum tarihini giriniz. \")\n",
    "    print(f\"{i} tane öğrenci bilgisi alındı.\")\n",
    "\n",
    "ogrenciler[i] = {\n",
    "    \"No\": okul_no,\n",
    "    \"isim\": isim,\n",
    "    \"Soy İsim\": soy_isim,\n",
    "    \"Telefon Numarası\": telefon,\n",
    "    \"Doğum Tarihi\": dogum_tarihi\n",
    "}\n",
    "print(ogrenciler)\n"
   ]
  },
  {
   "cell_type": "markdown",
   "metadata": {},
   "source": [
    "# Problem 2\n",
    "\n",
    "### a - Biraz ısınarak başlayalım!\n",
    "\n",
    "```\n",
    "numbers = [5,10,10,15,15,15,20,20,20,20]\n",
    "```\n",
    "\n",
    "Yukarıda `numbers` adında 10 elemanlı bir liste verilmiştir. Bu listenin her elemanını kontrol eden ve tekrar eden elemanları bir kez olacak şekilde başka bir listeye kopyalayan bir program yazınız. Son olarak oluşturduğunuz listeyi ekrana bastırınız.\n",
    "\n",
    "\n",
    "\n",
    "\n",
    "```\n",
    ">Output\n",
    "[5, 10, 15, 20]\n",
    "```\n"
   ]
  },
  {
   "cell_type": "code",
   "execution_count": 3,
   "metadata": {},
   "outputs": [
    {
     "name": "stdout",
     "output_type": "stream",
     "text": [
      "[5, 10, 15, 20]\n"
     ]
    }
   ],
   "source": [
    "numbers = [5, 10, 10, 15, 15, 15, 20, 20, 20, 20]\n",
    "\n",
    "unique = []\n",
    "\n",
    "for number in numbers:\n",
    "    if number in unique:\n",
    "        continue\n",
    "    else:\n",
    "        unique.append(number)\n",
    "\n",
    "print(unique)"
   ]
  },
  {
   "cell_type": "markdown",
   "metadata": {},
   "source": [
    "### 🌶️ b) Hadi işi biraz daha zorlaştıralım! \n",
    "\n",
    "\n",
    "Şimdiyse senden `numbers` isimli listedeki tekrar eden elemanları `repeatNumbers` adındaki listeye; tekrar etmeyen elemanları `uniqueNumbers`adındaki listeye kopyalayan yazmanı ve listeleri ekrana bastırmanı bekliyoruz\n",
    "\n",
    "```\n",
    ">Output\n",
    "Tekrar Eden Elemanlar: [10, 10, 15, 15, 15, 20, 20, 20, 20]\n",
    "Tekrar Etmeyen Elemanlar: [5]\n",
    "```"
   ]
  },
  {
   "cell_type": "code",
   "execution_count": 4,
   "metadata": {},
   "outputs": [
    {
     "name": "stdout",
     "output_type": "stream",
     "text": [
      "Tekrar eden elemanlar:  [10, 10, 15, 15, 15, 20, 20, 20, 20]\n",
      "Tekrar etmeyen elemanlar.  [5]\n"
     ]
    }
   ],
   "source": [
    "numbers = [5, 10, 10, 15, 15, 15, 20, 20, 20, 20]\n",
    "\n",
    "unique = []\n",
    "\n",
    "repeat = []\n",
    "\n",
    "for number in numbers:\n",
    "    if numbers.count(number) == 1 :\n",
    "        unique.append(number)\n",
    "    else:\n",
    "        repeat.append(number)\n",
    "\n",
    "print(\"Tekrar eden elemanlar: \", repeat)\n",
    "print(\"Tekrar etmeyen elemanlar. \", unique)\n"
   ]
  },
  {
   "cell_type": "markdown",
   "metadata": {},
   "source": [
    "# Problem 3\n",
    "sn1 = {1,2,3,4,5}\n",
    "\n",
    "sn2 = {4,5,6,7,8}\n",
    "\n",
    " Verilen 2 adet küme için kesişimlerini, farklarını ve birleşimlerini bulunuz. "
   ]
  },
  {
   "cell_type": "code",
   "execution_count": 10,
   "metadata": {},
   "outputs": [
    {
     "name": "stdout",
     "output_type": "stream",
     "text": [
      "{4, 5, 6, 7, 8}\n",
      "{4, 5}\n",
      "sn1'in sn2'den farkı:  {1, 2, 3}\n",
      "sn2'in sn1'den farkı:  {8, 6, 7}\n"
     ]
    }
   ],
   "source": [
    "sn1 = {1,2,3,4,5}\n",
    "sn2 = {4,5,6,7,8}\n",
    "\n",
    "birlesim = sn1.union(sn2)\n",
    "print(sn2)\n",
    "\n",
    "kesisim = sn1.intersection(sn2)\n",
    "print(kesisim)\n",
    "\n",
    "fark1 = sn1.difference(sn2)\n",
    "print(\"sn1'in sn2'den farkı: \", fark1)\n",
    "\n",
    "fark2 = sn2.difference(sn1)\n",
    "print(\"sn2'in sn1'den farkı: \", fark2)\n",
    "\n"
   ]
  },
  {
   "cell_type": "markdown",
   "metadata": {},
   "source": [
    "# Problem 4\n",
    "\n",
    "Buradaki işlemlerimizin tamamı stringler içindir. Aşağıda verilecek olan metodlar için kendinizin örnek yaratması gerekmektedir. \n",
    "\n",
    "Örneğin `upper` için `string` değişkeni oluştururken` k = \"BAC\"` şeklinde oluşturmayınız. Bunun yerine k değişkenini `k = \"bac`\" şeklinde oluşturmanız `upper` metodundaki değişimi görebilmeniz için daha iyi olacaktır.\n",
    "\n",
    "Bütün metodlardaki değişimin gözle görülür şekilde değişimi beklenmektedir.\n",
    "\n",
    "\n",
    "1- capitalize(), lower(), upper(), swapcase(), title(), replace()\n",
    "\n",
    "2- endswith(), startswith(), find(), index(), count()\n",
    "\n",
    "3- split(), strip(), join(), islower(), isalpha(), isdigit()\n",
    "\n",
    "\n",
    "Yukarıdaki `string` metodlarındaki değişimleri görebildiğimiz bir program yazınız.\n"
   ]
  },
  {
   "cell_type": "code",
   "execution_count": 53,
   "metadata": {},
   "outputs": [
    {
     "name": "stdout",
     "output_type": "stream",
     "text": [
      "    yetgen core python ile python öğreniyorum! 123     \n",
      "    yetgen core python ile python öğreniyorum! 123     \n",
      "    YETGEN CORE PYTHON ILE PYTHON ÖĞRENIYORUM! 123     \n",
      "    yETgEN cORE pYTHON ILE pYTHON öĞRENIYORUM! 123     \n",
      "    Yetgen Core Python Ile Python Öğreniyorum! 123     \n",
      "    Yetkin Gençler Python ile Python Öğreniyorum! 123     \n",
      "False\n",
      "False\n",
      "11\n",
      "16\n",
      "3\n",
      "['    YetGen Core Python ile Python Öğreniyorum! 12', '     ']\n",
      "YetGen Core Python ile Python Öğreniyorum! 123\n",
      "4. Hafta\n",
      "False\n",
      "False\n",
      "False\n"
     ]
    }
   ],
   "source": [
    "s = \"    YetGen Core Python ile Python Öğreniyorum! 123     \"\n",
    "print(s.capitalize())\n",
    "\n",
    "print(s.lower())\n",
    "\n",
    "print(s.upper())\n",
    "\n",
    "print(s.swapcase())\n",
    "\n",
    "print(s.title())\n",
    "\n",
    "print(s.replace(\"YetGen Core\", \"Yetkin Gençler\"))\n",
    "\n",
    "print(s.endswith(\"123\"))\n",
    "\n",
    "print(s.startswith(\"YetGen\"))\n",
    "\n",
    "print(s.find(\"Core\"))\n",
    "\n",
    "print(s.index(\"Python\"))\n",
    "\n",
    "print(s.count(\"y\"))\n",
    "\n",
    "print(s.split(\"3\"))\n",
    "\n",
    "print(s.strip())\n",
    "\n",
    "liste = [\"4. Hafta\"]\n",
    "print(s.join(liste))\n",
    "\n",
    "print(s.islower())\n",
    "\n",
    "print(s.isalpha())\n",
    "\n",
    "print(s.isdigit())"
   ]
  },
  {
   "cell_type": "code",
   "execution_count": 32,
   "metadata": {},
   "outputs": [
    {
     "name": "stdout",
     "output_type": "stream",
     "text": [
      "Bu iki örnek string\n",
      "True\n"
     ]
    }
   ],
   "source": [
    "string = \"Bu bir örnek string\"\n",
    "print(string.replace(\"bir\", \"iki\"))\n",
    "print(string.endswith(\"string\"))"
   ]
  }
 ],
 "metadata": {
  "kernelspec": {
   "display_name": "Python 3.10.5 64-bit",
   "language": "python",
   "name": "python3"
  },
  "language_info": {
   "codemirror_mode": {
    "name": "ipython",
    "version": 3
   },
   "file_extension": ".py",
   "mimetype": "text/x-python",
   "name": "python",
   "nbconvert_exporter": "python",
   "pygments_lexer": "ipython3",
   "version": "3.8.10"
  },
  "orig_nbformat": 4,
  "vscode": {
   "interpreter": {
    "hash": "5026d2d6e7aaaaba093def813beadff083d8733e4a511af01735cbabd156995d"
   }
  }
 },
 "nbformat": 4,
 "nbformat_minor": 2
}

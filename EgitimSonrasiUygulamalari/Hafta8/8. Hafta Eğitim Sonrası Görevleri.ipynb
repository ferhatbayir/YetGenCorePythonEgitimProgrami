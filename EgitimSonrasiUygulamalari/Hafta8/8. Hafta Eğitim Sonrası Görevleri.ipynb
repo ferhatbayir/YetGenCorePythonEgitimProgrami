{
 "cells": [
  {
   "attachments": {},
   "cell_type": "markdown",
   "metadata": {},
   "source": [
    "# Problem 1\n",
    "\n",
    "Şimdi beraber kullanıcılardan aldığımız verileri işleyerek, onlara hem çıktı verecek, hem de aldığımız ve hesapladığımız verileri ileride kullanabilmek adına kaydedeceğiz.\n",
    "\n",
    "\n",
    " **Bu bir veri giriş platformu olacak**\n",
    "\n",
    "\n",
    " * kullanıcıya kaç giriş yapacağını soracağız\n",
    "* kullanıcıdan isim-soyisim, yaş, boy, kilo bilgilerini alarak VKİ hesaplayacağız\n",
    "* ardından bunları sınıflara göre kaydedeceğiz bir dosyaya kaydedeceğiz\n",
    "\n",
    "\n",
    "Sınıflar ise şu şekilde: \n",
    "* 18, 5 kg/m.'nin altında olanlar: Zayıf\n",
    "* 18.5 – 24, 9 kg/m. arasında olanlar: Normal kilolu\n",
    "* 25 – 29, 9 kg/m. arasında olanlar: Fazla kilolu\n",
    "* 30 – 39, 9 kg/m. arasında olanlar: Obez\n",
    "* 40 kg/m.'nin üzerinde olanlar: İleri derecede obez (morbid obez), olarak görülür."
   ]
  },
  {
   "cell_type": "code",
   "execution_count": 18,
   "metadata": {},
   "outputs": [
    {
     "name": "stdout",
     "output_type": "stream",
     "text": [
      "kullanıcı kaydı 1\n"
     ]
    },
    {
     "ename": "UnicodeEncodeError",
     "evalue": "'charmap' codec can't encode character '\\u0131' in position 124: character maps to <undefined>",
     "output_type": "error",
     "traceback": [
      "\u001b[1;31m---------------------------------------------------------------------------\u001b[0m",
      "\u001b[1;31mUnicodeEncodeError\u001b[0m                        Traceback (most recent call last)",
      "Cell \u001b[1;32mIn[18], line 48\u001b[0m\n\u001b[0;32m     46\u001b[0m             \u001b[39mprint\u001b[39m(\u001b[39m\"\u001b[39m\u001b[39mkullanıcı kaydedildi.\u001b[39m\u001b[39m\"\u001b[39m)\n\u001b[0;32m     47\u001b[0m     \u001b[39mprint\u001b[39m(\u001b[39m\"\u001b[39m\u001b[39mveriler \u001b[39m\u001b[39m'\u001b[39m\u001b[39msaglik.txt\u001b[39m\u001b[39m'\u001b[39m\u001b[39m dosyasına kaydedildi.\u001b[39m\u001b[39m\\n\u001b[39;00m\u001b[39m\"\u001b[39m)\n\u001b[1;32m---> 48\u001b[0m main()\n",
      "Cell \u001b[1;32mIn[18], line 43\u001b[0m, in \u001b[0;36mmain\u001b[1;34m()\u001b[0m\n\u001b[0;32m     40\u001b[0m output \u001b[39m=\u001b[39m cikti_olustur(isim, yas, kilo, boy, vki, deger)\n\u001b[0;32m     42\u001b[0m \u001b[39mwith\u001b[39;00m \u001b[39mopen\u001b[39m(\u001b[39m\"\u001b[39m\u001b[39msaglik.txt\u001b[39m\u001b[39m\"\u001b[39m, \u001b[39m\"\u001b[39m\u001b[39ma\u001b[39m\u001b[39m\"\u001b[39m) \u001b[39mas\u001b[39;00m f:\n\u001b[1;32m---> 43\u001b[0m     f\u001b[39m.\u001b[39;49mwrite(output)\n\u001b[0;32m     44\u001b[0m     f\u001b[39m.\u001b[39mwrite(\u001b[39m\"\u001b[39m\u001b[39m*\u001b[39m\u001b[39m\"\u001b[39m\u001b[39m*\u001b[39m\u001b[39m20\u001b[39m)\n\u001b[0;32m     45\u001b[0m     f\u001b[39m.\u001b[39mwrite(\u001b[39m\"\u001b[39m\u001b[39m\\n\u001b[39;00m\u001b[39m\"\u001b[39m)\n",
      "File \u001b[1;32mc:\\Users\\keanu\\AppData\\Local\\Programs\\Python\\Python38\\lib\\encodings\\cp1252.py:19\u001b[0m, in \u001b[0;36mIncrementalEncoder.encode\u001b[1;34m(self, input, final)\u001b[0m\n\u001b[0;32m     18\u001b[0m \u001b[39mdef\u001b[39;00m \u001b[39mencode\u001b[39m(\u001b[39mself\u001b[39m, \u001b[39minput\u001b[39m, final\u001b[39m=\u001b[39m\u001b[39mFalse\u001b[39;00m):\n\u001b[1;32m---> 19\u001b[0m     \u001b[39mreturn\u001b[39;00m codecs\u001b[39m.\u001b[39;49mcharmap_encode(\u001b[39minput\u001b[39;49m,\u001b[39mself\u001b[39;49m\u001b[39m.\u001b[39;49merrors,encoding_table)[\u001b[39m0\u001b[39m]\n",
      "\u001b[1;31mUnicodeEncodeError\u001b[0m: 'charmap' codec can't encode character '\\u0131' in position 124: character maps to <undefined>"
     ]
    }
   ],
   "source": [
    "import time\n",
    "\n",
    "def vki_hesaplama(kilo, boy):\n",
    "    vki = kilo/(boy ** 2)\n",
    "    return round(vki, 1)\n",
    "\n",
    "def deger_araligi(vki):\n",
    "    if vki < 18.5:\n",
    "        return \"zayıf\"\n",
    "    \n",
    "    elif 18.5 <= vki <= 24.9:\n",
    "        return \"Normal\"\n",
    "    elif 25 <= vki <= 29.9:\n",
    "        return \"Fazla Kilolu\"\n",
    "    elif 30 <= vki <= 39.9:\n",
    "        return \"Obez\"\n",
    "    elif 40 <= vki:\n",
    "        return \"Morbid Obez\"\n",
    "    \n",
    "def cikti_olustur(isim, yas, kilo, boy, vki, deger):\n",
    "    kayit_tarihi = time.ctime(time.time())\n",
    "    t1 = f\"kullanici_adi {isim}\\n\"\n",
    "    t2 = f\"kullanicinin yas, kilo, boy bilgisi {yas}, {kilo}, {boy}\\n\"\n",
    "    t3 = f\"kulanicinin vucut kitle indeksi {vki}\\n\"\n",
    "    t4 = f\"deger araligi {deger}\\n\"\n",
    "    t5 = f\"oluşturma tarihi: {kayit_tarihi}\\n\"\n",
    "    output = t1 + t2 + t3 + t4 + t5\n",
    "    return output\n",
    "\n",
    "def main():\n",
    "    giris_sayisi= int(input(\"Kaç kullanıcı verisi gireceksiniz? \"))\n",
    "    for i in range(giris_sayisi):\n",
    "        print(f\"kullanıcı kaydı {i + 1}\")\n",
    "        isim = input(\"İsim soyisim: \")\n",
    "        yas = int(input(\"Yaş: \"))\n",
    "        kilo = float(input(\"kilo (kg): \"))\n",
    "        boy = float(input(\"boy (m): \"))\n",
    "        vki = vki_hesaplama(kilo, boy)\n",
    "        deger = deger_araligi(vki)\n",
    "        output = cikti_olustur(isim, yas, kilo, boy, vki, deger)\n",
    "\n",
    "        with open(\"saglik.txt\", \"a\") as f:\n",
    "            f.write(output)\n",
    "            f.write(\"*\"*20)\n",
    "            f.write(\"\\n\")\n",
    "            print(\"kullanıcı kaydedildi.\")\n",
    "    print(\"veriler 'saglik.txt' dosyasına kaydedildi.\\n\")\n",
    "main()"
   ]
  },
  {
   "attachments": {},
   "cell_type": "markdown",
   "metadata": {},
   "source": [
    "# Problem 2\n",
    "**YetBar - Smoothie Bank**\n",
    "---\n",
    "YetBar spor salonunun girişinde bulunan, insansız bir sağlıklı içecek otomatıdır. Kullanıcı çeşitli girdiler smoothie içeceğine koyacağı ürünleri belirleyebilir, fiyat hesaplaması yaptırabilir ya da sadece menüyü görüntüleyebilir.\n",
    "\n",
    "**Projenin Amacı:**\n",
    "\n",
    "*   Birbirini etkileyen ve bir kod içerisinde birden fazla defa başvurulacak fonksiyonların oluşturulup, \"fonksiyonel\" proglamlamak.\n",
    "*   Büyük programları yazarken, yazılımcı olarak yapabileceğimiz hatalardan kaçınmak için kontrol yöntemleri geliştirmek.\n",
    "*   Kullanıcı inputlarını ve yaptığımız hesapları, raporlamak/loglamak amacıyla kaydetmek.\n",
    "\n",
    "**Programdan Beklenen Çıktılar**\n",
    "* Program kullanıcıya temelde 2 farklı işlem yapma imkanı sağlar.\n",
    "> 1. Menüyü görüntüleme\n",
    "> 3. Satın alma\n",
    "* Satın alınan her içecek tarih, fiyat bilgisi ile kaydedilmeli ve her zaman ulaşılabilir olmalıdır.\n",
    "\n",
    "\n"
   ]
  },
  {
   "cell_type": "code",
   "execution_count": 10,
   "metadata": {},
   "outputs": [],
   "source": [
    "import datetime\n",
    "\n",
    "menu = {\n",
    "    \"kahve\": 40,\n",
    "    \"soda\": 17,\n",
    "    \"süt\": 22,\n",
    "    \"muzlu smoothie\": 42,\n",
    "    \"çilekli smoothie\": 41,\n",
    "    \"yulaf ezmesi\": 50,\n",
    "    \"su\": 5\n",
    "}\n",
    "\n",
    "satin_alinan_urunler = []\n",
    "\n",
    "def menu_goruntuleme():\n",
    "    for urun, fiyat in menu.items():\n",
    "        print(f\"{urun} - {fiyat} TL\")\n",
    "\n",
    "def satin_al():\n",
    "    while True:\n",
    "        urun = input(\"Satın almak istediğiniz ürünü giriniz ('q'=çıkış): \")\n",
    "        if urun == \"q\":\n",
    "            break\n",
    "        elif urun not in menu:\n",
    "            print(\"Lütfen geçerli bir ürün giriniz!\")\n",
    "            continue\n",
    "        else:\n",
    "            adet = int(input(\"Kaç adet satın almak istiyorsunuz?: \"))\n",
    "            satin_alinan_urunler.append(urun, adet, menu[urun])\n",
    "            print(f\"{urun} {adet} sepetinize eklendi.\")\n",
    "\n",
    "def main():\n",
    "    while True:\n",
    "        secim = input(\"Ne yapmak istersiniz? (1: menü, 2: satın al, q: çıkış)\")\n",
    "        if secim == \"q\":\n",
    "            break\n",
    "        elif secim == 1:\n",
    "            menu_goruntuleme()\n",
    "        elif secim == 2:\n",
    "            satin_al()\n",
    "\n",
    "    print(\"Satın alınan ürünler: \")\n",
    "    toplam_tutar = 0\n",
    "    for urun, adet, fiyat in satin_alinan_urunler:\n",
    "        print(f\"{urun} - {adet} adet - {fiyat*adet} TL\")\n",
    "        toplam_tutar += fiyat*adet\n",
    "\n",
    "tarih = datetime.datetime.now()"
   ]
  }
 ],
 "metadata": {
  "kernelspec": {
   "display_name": "Python 3",
   "language": "python",
   "name": "python3"
  },
  "language_info": {
   "codemirror_mode": {
    "name": "ipython",
    "version": 3
   },
   "file_extension": ".py",
   "mimetype": "text/x-python",
   "name": "python",
   "nbconvert_exporter": "python",
   "pygments_lexer": "ipython3",
   "version": "3.8.10"
  },
  "orig_nbformat": 4,
  "vscode": {
   "interpreter": {
    "hash": "5026d2d6e7aaaaba093def813beadff083d8733e4a511af01735cbabd156995d"
   }
  }
 },
 "nbformat": 4,
 "nbformat_minor": 2
}

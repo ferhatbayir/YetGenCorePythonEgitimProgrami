{
 "cells": [
  {
   "attachments": {},
   "cell_type": "markdown",
   "metadata": {},
   "source": [
    "# Problem 1 \n",
    "Seaborn kütüphanesi içerisinden Titanic veri setini tanımlayınız."
   ]
  },
  {
   "cell_type": "code",
   "execution_count": 2,
   "metadata": {},
   "outputs": [
    {
     "name": "stdout",
     "output_type": "stream",
     "text": [
      "   survived  pclass     sex   age  sibsp  parch     fare embarked  class   \n",
      "0         0       3    male  22.0      1      0   7.2500        S  Third  \\\n",
      "1         1       1  female  38.0      1      0  71.2833        C  First   \n",
      "2         1       3  female  26.0      0      0   7.9250        S  Third   \n",
      "3         1       1  female  35.0      1      0  53.1000        S  First   \n",
      "4         0       3    male  35.0      0      0   8.0500        S  Third   \n",
      "\n",
      "     who  adult_male deck  embark_town alive  alone  \n",
      "0    man        True  NaN  Southampton    no  False  \n",
      "1  woman       False    C    Cherbourg   yes  False  \n",
      "2  woman       False  NaN  Southampton   yes   True  \n",
      "3  woman       False    C  Southampton   yes  False  \n",
      "4    man        True  NaN  Southampton    no   True  \n"
     ]
    }
   ],
   "source": [
    "import seaborn as sns\n",
    "\n",
    "titanic_data = sns.load_dataset(\"titanic\")\n",
    "\n",
    "print(titanic_data.head())"
   ]
  },
  {
   "attachments": {},
   "cell_type": "markdown",
   "metadata": {},
   "source": [
    "# Problem 2\n",
    "Titanic veri setindeki kadın ve erkek yolcuların sayısını bulunuz."
   ]
  },
  {
   "cell_type": "code",
   "execution_count": 3,
   "metadata": {},
   "outputs": [
    {
     "name": "stdout",
     "output_type": "stream",
     "text": [
      "Kadın yolcu sayısı:  314\n",
      "Erkek yolcu sayısı:  577\n"
     ]
    }
   ],
   "source": [
    "female_count = titanic_data[titanic_data['sex'] == 'female'].shape[0]\n",
    "\n",
    "male_count = titanic_data[titanic_data['sex'] == 'male'].shape[0]\n",
    "\n",
    "print(\"Kadın yolcu sayısı: \", female_count)\n",
    "print(\"Erkek yolcu sayısı: \", male_count)"
   ]
  },
  {
   "attachments": {},
   "cell_type": "markdown",
   "metadata": {},
   "source": [
    "# Problem 3\n",
    "Her bir sutuna ait unique değerlerin sayısını bulunuz."
   ]
  },
  {
   "cell_type": "code",
   "execution_count": 4,
   "metadata": {},
   "outputs": [
    {
     "name": "stdout",
     "output_type": "stream",
     "text": [
      "Sütun'survived' için unique değer sayısı: 2\n",
      "Sütun'pclass' için unique değer sayısı: 3\n",
      "Sütun'sex' için unique değer sayısı: 2\n",
      "Sütun'age' için unique değer sayısı: 88\n",
      "Sütun'sibsp' için unique değer sayısı: 7\n",
      "Sütun'parch' için unique değer sayısı: 7\n",
      "Sütun'fare' için unique değer sayısı: 248\n",
      "Sütun'embarked' için unique değer sayısı: 3\n",
      "Sütun'class' için unique değer sayısı: 3\n",
      "Sütun'who' için unique değer sayısı: 3\n",
      "Sütun'adult_male' için unique değer sayısı: 2\n",
      "Sütun'deck' için unique değer sayısı: 7\n",
      "Sütun'embark_town' için unique değer sayısı: 3\n",
      "Sütun'alive' için unique değer sayısı: 2\n",
      "Sütun'alone' için unique değer sayısı: 2\n"
     ]
    }
   ],
   "source": [
    "for column in titanic_data.columns:\n",
    "    unique_count = titanic_data[column].nunique()\n",
    "    print(f\"Sütun'{column}' için unique değer sayısı: {unique_count}\")"
   ]
  },
  {
   "attachments": {},
   "cell_type": "markdown",
   "metadata": {},
   "source": [
    "# Problem 4\n",
    "pclass değişkeninin unique değerlerinin sayısını bulunuz."
   ]
  },
  {
   "cell_type": "code",
   "execution_count": 5,
   "metadata": {},
   "outputs": [
    {
     "name": "stdout",
     "output_type": "stream",
     "text": [
      "pclass değişkeninin unique değerlerinin sayısı:  3\n"
     ]
    }
   ],
   "source": [
    "unique_count_pclass = titanic_data[\"pclass\"].nunique()\n",
    "print(\"pclass değişkeninin unique değerlerinin sayısı: \", unique_count_pclass)"
   ]
  },
  {
   "attachments": {},
   "cell_type": "markdown",
   "metadata": {},
   "source": [
    "# Problem 5\n",
    "pclass ve parch değişkenlerinin unique değerlerinin sayısını bulunuz"
   ]
  },
  {
   "cell_type": "code",
   "execution_count": 6,
   "metadata": {},
   "outputs": [
    {
     "name": "stdout",
     "output_type": "stream",
     "text": [
      "pclass değişkeninin unique değerlerinin sayısı:  3\n",
      "parch değişkeninin unique değerlerinin sayısı:  7\n"
     ]
    }
   ],
   "source": [
    "pclass_unique_count = titanic_data[\"pclass\"].nunique()\n",
    "parch_unique_count = titanic_data[\"parch\"].nunique()\n",
    "\n",
    "print(\"pclass değişkeninin unique değerlerinin sayısı: \", pclass_unique_count)\n",
    "print(\"parch değişkeninin unique değerlerinin sayısı: \", parch_unique_count)"
   ]
  },
  {
   "attachments": {},
   "cell_type": "markdown",
   "metadata": {},
   "source": [
    "# Problem 6\n",
    "embarked değişkeninin tipini kontrol ediniz. Tipini category olarak değiştiriniz ve tekrar kontrol ediniz."
   ]
  },
  {
   "cell_type": "code",
   "execution_count": 7,
   "metadata": {},
   "outputs": [
    {
     "name": "stdout",
     "output_type": "stream",
     "text": [
      "Değişkenin veri tipi:  object\n",
      "Değişkenin yeni tipi:  category\n"
     ]
    }
   ],
   "source": [
    "print(\"Değişkenin veri tipi: \", titanic_data[\"embarked\"].dtype)\n",
    "titanic_data[\"embarked\"] = titanic_data[\"embarked\"].astype(\"category\")\n",
    "print(\"Değişkenin yeni tipi: \", titanic_data[\"embarked\"].dtype)"
   ]
  },
  {
   "attachments": {},
   "cell_type": "markdown",
   "metadata": {},
   "source": [
    "# Problem 7\n",
    "embarked değeri C olanların tüm bilgilerini gösteriniz."
   ]
  },
  {
   "cell_type": "code",
   "execution_count": 8,
   "metadata": {},
   "outputs": [
    {
     "name": "stdout",
     "output_type": "stream",
     "text": [
      "     survived  pclass     sex   age  sibsp  parch     fare embarked   class   \n",
      "1           1       1  female  38.0      1      0  71.2833        C   First  \\\n",
      "9           1       2  female  14.0      1      0  30.0708        C  Second   \n",
      "19          1       3  female   NaN      0      0   7.2250        C   Third   \n",
      "26          0       3    male   NaN      0      0   7.2250        C   Third   \n",
      "30          0       1    male  40.0      0      0  27.7208        C   First   \n",
      "..        ...     ...     ...   ...    ...    ...      ...      ...     ...   \n",
      "866         1       2  female  27.0      1      0  13.8583        C  Second   \n",
      "874         1       2  female  28.0      1      0  24.0000        C  Second   \n",
      "875         1       3  female  15.0      0      0   7.2250        C   Third   \n",
      "879         1       1  female  56.0      0      1  83.1583        C   First   \n",
      "889         1       1    male  26.0      0      0  30.0000        C   First   \n",
      "\n",
      "       who  adult_male deck embark_town alive  alone  \n",
      "1    woman       False    C   Cherbourg   yes  False  \n",
      "9    child       False  NaN   Cherbourg   yes  False  \n",
      "19   woman       False  NaN   Cherbourg   yes   True  \n",
      "26     man        True  NaN   Cherbourg    no   True  \n",
      "30     man        True  NaN   Cherbourg    no   True  \n",
      "..     ...         ...  ...         ...   ...    ...  \n",
      "866  woman       False  NaN   Cherbourg   yes  False  \n",
      "874  woman       False  NaN   Cherbourg   yes  False  \n",
      "875  child       False  NaN   Cherbourg   yes   True  \n",
      "879  woman       False    C   Cherbourg   yes  False  \n",
      "889    man        True    C   Cherbourg   yes   True  \n",
      "\n",
      "[168 rows x 15 columns]\n"
     ]
    }
   ],
   "source": [
    "embarked_c_passengers = titanic_data[titanic_data[\"embarked\"] == \"C\"]\n",
    "print(embarked_c_passengers)"
   ]
  },
  {
   "attachments": {},
   "cell_type": "markdown",
   "metadata": {},
   "source": [
    "# Problem 8\n",
    "embarked değeri S olmayanların tüm bilgelerini gösteriniz."
   ]
  },
  {
   "cell_type": "code",
   "execution_count": 10,
   "metadata": {},
   "outputs": [
    {
     "name": "stdout",
     "output_type": "stream",
     "text": [
      "     survived  pclass     sex   age  sibsp  parch     fare embarked   class   \n",
      "1           1       1  female  38.0      1      0  71.2833        C   First  \\\n",
      "5           0       3    male   NaN      0      0   8.4583        Q   Third   \n",
      "9           1       2  female  14.0      1      0  30.0708        C  Second   \n",
      "16          0       3    male   2.0      4      1  29.1250        Q   Third   \n",
      "19          1       3  female   NaN      0      0   7.2250        C   Third   \n",
      "..        ...     ...     ...   ...    ...    ...      ...      ...     ...   \n",
      "875         1       3  female  15.0      0      0   7.2250        C   Third   \n",
      "879         1       1  female  56.0      0      1  83.1583        C   First   \n",
      "885         0       3  female  39.0      0      5  29.1250        Q   Third   \n",
      "889         1       1    male  26.0      0      0  30.0000        C   First   \n",
      "890         0       3    male  32.0      0      0   7.7500        Q   Third   \n",
      "\n",
      "       who  adult_male deck embark_town alive  alone  \n",
      "1    woman       False    C   Cherbourg   yes  False  \n",
      "5      man        True  NaN  Queenstown    no   True  \n",
      "9    child       False  NaN   Cherbourg   yes  False  \n",
      "16   child       False  NaN  Queenstown    no  False  \n",
      "19   woman       False  NaN   Cherbourg   yes   True  \n",
      "..     ...         ...  ...         ...   ...    ...  \n",
      "875  child       False  NaN   Cherbourg   yes   True  \n",
      "879  woman       False    C   Cherbourg   yes  False  \n",
      "885  woman       False  NaN  Queenstown    no  False  \n",
      "889    man        True    C   Cherbourg   yes   True  \n",
      "890    man        True  NaN  Queenstown    no   True  \n",
      "\n",
      "[247 rows x 15 columns]\n"
     ]
    }
   ],
   "source": [
    "embarked_not_s_passengers = titanic_data[titanic_data[\"embarked\"] != \"S\"]\n",
    "print(embarked_not_s_passengers)"
   ]
  },
  {
   "attachments": {},
   "cell_type": "markdown",
   "metadata": {},
   "source": [
    "# Problem 9\n",
    "\n",
    "Yaşı 30 dan küçük ve kadın olan yolcuların tüm bilgilerini gösteriniz."
   ]
  },
  {
   "cell_type": "code",
   "execution_count": 11,
   "metadata": {},
   "outputs": [
    {
     "name": "stdout",
     "output_type": "stream",
     "text": [
      "     survived  pclass     sex   age  sibsp  parch     fare embarked   class   \n",
      "2           1       3  female  26.0      0      0   7.9250        S   Third  \\\n",
      "8           1       3  female  27.0      0      2  11.1333        S   Third   \n",
      "9           1       2  female  14.0      1      0  30.0708        C  Second   \n",
      "10          1       3  female   4.0      1      1  16.7000        S   Third   \n",
      "14          0       3  female  14.0      0      0   7.8542        S   Third   \n",
      "..        ...     ...     ...   ...    ...    ...      ...      ...     ...   \n",
      "874         1       2  female  28.0      1      0  24.0000        C  Second   \n",
      "875         1       3  female  15.0      0      0   7.2250        C   Third   \n",
      "880         1       2  female  25.0      0      1  26.0000        S  Second   \n",
      "882         0       3  female  22.0      0      0  10.5167        S   Third   \n",
      "887         1       1  female  19.0      0      0  30.0000        S   First   \n",
      "\n",
      "       who  adult_male deck  embark_town alive  alone  \n",
      "2    woman       False  NaN  Southampton   yes   True  \n",
      "8    woman       False  NaN  Southampton   yes  False  \n",
      "9    child       False  NaN    Cherbourg   yes  False  \n",
      "10   child       False    G  Southampton   yes  False  \n",
      "14   child       False  NaN  Southampton    no   True  \n",
      "..     ...         ...  ...          ...   ...    ...  \n",
      "874  woman       False  NaN    Cherbourg   yes  False  \n",
      "875  child       False  NaN    Cherbourg   yes   True  \n",
      "880  woman       False  NaN  Southampton   yes  False  \n",
      "882  woman       False  NaN  Southampton    no   True  \n",
      "887  woman       False    B  Southampton   yes   True  \n",
      "\n",
      "[147 rows x 15 columns]\n"
     ]
    }
   ],
   "source": [
    "young_female_passengers = titanic_data[(titanic_data[\"age\"] < 30) & (titanic_data[\"sex\"] == \"female\")]\n",
    "print(young_female_passengers)"
   ]
  },
  {
   "attachments": {},
   "cell_type": "markdown",
   "metadata": {},
   "source": [
    "# Problem 10\n",
    "Fare'i 500'den büyük veya yaşı 70’den büyük yolcuların bilgilerini gösteriniz"
   ]
  },
  {
   "cell_type": "code",
   "execution_count": 20,
   "metadata": {},
   "outputs": [
    {
     "name": "stdout",
     "output_type": "stream",
     "text": [
      "     survived  pclass     sex   age  sibsp  parch      fare embarked  class   \n",
      "96          0       1    male  71.0      0      0   34.6542        C  First  \\\n",
      "116         0       3    male  70.5      0      0    7.7500        Q  Third   \n",
      "258         1       1  female  35.0      0      0  512.3292        C  First   \n",
      "493         0       1    male  71.0      0      0   49.5042        C  First   \n",
      "630         1       1    male  80.0      0      0   30.0000        S  First   \n",
      "679         1       1    male  36.0      0      1  512.3292        C  First   \n",
      "737         1       1    male  35.0      0      0  512.3292        C  First   \n",
      "851         0       3    male  74.0      0      0    7.7750        S  Third   \n",
      "\n",
      "       who  adult_male deck  embark_town alive  alone  \n",
      "96     man        True    A    Cherbourg    no   True  \n",
      "116    man        True  NaN   Queenstown    no   True  \n",
      "258  woman       False  NaN    Cherbourg   yes   True  \n",
      "493    man        True  NaN    Cherbourg    no   True  \n",
      "630    man        True    A  Southampton   yes   True  \n",
      "679    man        True    B    Cherbourg   yes  False  \n",
      "737    man        True    B    Cherbourg   yes   True  \n",
      "851    man        True  NaN  Southampton    no   True  \n"
     ]
    }
   ],
   "source": [
    "filtered_passengers = titanic_data[(titanic_data[\"fare\"] > 500) | (titanic_data[\"age\"] > 70)]\n",
    "print(filtered_passengers)"
   ]
  },
  {
   "attachments": {},
   "cell_type": "markdown",
   "metadata": {},
   "source": [
    "# Problem 11\n",
    "Her bir değişkendeki boş değerlerin toplamını bulunuz."
   ]
  },
  {
   "cell_type": "code",
   "execution_count": 21,
   "metadata": {},
   "outputs": [
    {
     "name": "stdout",
     "output_type": "stream",
     "text": [
      "survived         0\n",
      "pclass           0\n",
      "sex              0\n",
      "age            177\n",
      "sibsp            0\n",
      "parch            0\n",
      "fare             0\n",
      "embarked         2\n",
      "class            0\n",
      "who              0\n",
      "adult_male       0\n",
      "deck           688\n",
      "embark_town      2\n",
      "alive            0\n",
      "alone            0\n",
      "dtype: int64\n"
     ]
    }
   ],
   "source": [
    "null_counts = titanic_data.isnull().sum()\n",
    "print(null_counts)"
   ]
  }
 ],
 "metadata": {
  "kernelspec": {
   "display_name": "Python 3",
   "language": "python",
   "name": "python3"
  },
  "language_info": {
   "codemirror_mode": {
    "name": "ipython",
    "version": 3
   },
   "file_extension": ".py",
   "mimetype": "text/x-python",
   "name": "python",
   "nbconvert_exporter": "python",
   "pygments_lexer": "ipython3",
   "version": "3.8.10"
  },
  "orig_nbformat": 4,
  "vscode": {
   "interpreter": {
    "hash": "5026d2d6e7aaaaba093def813beadff083d8733e4a511af01735cbabd156995d"
   }
  }
 },
 "nbformat": 4,
 "nbformat_minor": 2
}
